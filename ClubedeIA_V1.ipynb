{
  "nbformat": 4,
  "nbformat_minor": 0,
  "metadata": {
    "colab": {
      "provenance": [],
      "include_colab_link": true
    },
    "kernelspec": {
      "name": "python3",
      "display_name": "Python 3"
    },
    "language_info": {
      "name": "python"
    }
  },
  "cells": [
    {
      "cell_type": "markdown",
      "metadata": {
        "id": "view-in-github",
        "colab_type": "text"
      },
      "source": [
        "<a href=\"https://colab.research.google.com/github/1matheeus/ClubedeIA/blob/main/ClubedeIA_V1.ipynb\" target=\"_parent\"><img src=\"https://colab.research.google.com/assets/colab-badge.svg\" alt=\"Open In Colab\"/></a>"
      ]
    },
    {
      "cell_type": "code",
      "metadata": {
        "colab": {
          "base_uri": "https://localhost:8080/"
        },
        "outputId": "9df78d5f-b597-4e57-863f-c158b021d69c",
        "id": "zF20bUDmImqR"
      },
      "source": [
        "import pandas as pd\n",
        "\n",
        "# Especifique o caminho do seu arquivo Excel de entrada\n",
        "# Substitua 'seu_arquivo.xlsx' pelo nome do seu arquivo Excel\n",
        "input_excel_file = 'formsTeste.xlsx'\n",
        "\n",
        "# Especifique o caminho para o arquivo CSV de saída\n",
        "# Substitua 'seu_arquivo_convertido.csv' pelo nome que você deseja para o arquivo CSV\n",
        "output_csv_file = 'RespostasFormulario.csv'\n",
        "\n",
        "try:\n",
        "    # Ler o arquivo Excel em um DataFrame do pandas\n",
        "    df = pd.read_excel(input_excel_file)\n",
        "\n",
        "    df = df.drop(df.columns[0], axis=1)  # Remove a primeira coluna\n",
        "    df = df.drop(df.columns[1], axis=1)  # Remove a segunda coluna\n",
        "\n",
        "    # Obtém o nome da primeira coluna\n",
        "    first_column = df.columns[0]\n",
        "\n",
        "    # Cria uma nova lista de colunas com a primeira coluna no final\n",
        "    new_column_order = list(df.columns[1:]) + [first_column]\n",
        "\n",
        "    # Reindexa o DataFrame com a nova ordem\n",
        "    df = df.reindex(columns=new_column_order)\n",
        "\n",
        "    df.columns = [f\"Q{i+1}\" for i in range(33,)] # Corrected to assign 33 column names\n",
        "    df.rename(columns={'Q33': 'R'}, inplace=True)\n",
        "\n",
        "    mapa_r = {\n",
        "        \"31TE\": 31,\n",
        "        \"32BI\": 32,\n",
        "        \"33EL\": 33,\n",
        "        \"34DS\": 34\n",
        "    }\n",
        "\n",
        "    mapa_q2 = { #faz um Remap de cada resposta para um valor numérico\n",
        "    \"Matemática – por causa da lógica e resolução de problemas\": 1,\n",
        "    \"Biologia – por curiosidade sobre a vida e o corpo humano\": 2,\n",
        "    \"Física – pela compreensão de fenômenos e aplicações práticas\": 3,\n",
        "    \"Informática – pelo uso da tecnologia no dia a dia\": 4,\n",
        "    \"Nenhuma em especial – preferia atividades mais práticas ou aplicadas\": 5\n",
        "    }\n",
        "\n",
        "    mapa_q7 = {\n",
        "    \"Um hospital ou clínica, auxiliando na área da saúde com tecnologia\": 1,\n",
        "    \"Uma startup ou empresa de tecnologia, criando inovações digitais\": 2,\n",
        "    \"Uma indústria automatizada, lidando com máquinas e processos técnicos\": 3,\n",
        "    \"Um provedor de internet ou empresa de telecomunicações, garantindo a conectividade\": 4\n",
        "    }\n",
        "\n",
        "    mapa_q25 = {\n",
        "    \"Raciocínio lógico e solução de problemas objetivos\": 1,\n",
        "    \"Comunicação clara e trabalho em equipe\": 2,\n",
        "    \"Criatividade para inovar e pensar fora da caixa\": 3,\n",
        "    \"Precisão, paciência e atenção aos mínimos detalhes\": 4\n",
        "    }\n",
        "\n",
        "    df[\"Q2\"] = df[\"Q2\"].map(mapa_q2) #substitui os valores antigos de respostas em string para o novo mapa com respostas em int\n",
        "    df[\"Q7\"] = df[\"Q7\"].map(mapa_q7)\n",
        "    df[\"Q25\"] = df[\"Q25\"].map(mapa_q25)\n",
        "    df[\"R\"] = df[\"R\"].map(mapa_r).astype(\"Int64\")\n",
        "\n",
        "    df.to_csv(output_csv_file, index=False)\n",
        "\n",
        "    print(f\"Arquivo '{input_excel_file}' convertido com sucesso para '{output_csv_file}'\")\n",
        "    print(f\"A segunda coluna foi renomeada para '{first_column}' e movida para o final.\")\n",
        "\n",
        "except FileNotFoundError:\n",
        "    print(f\"Erro: O arquivo '{input_excel_file}' não foi encontrado. Por favor, verifique o caminho do arquivo.\")\n",
        "except IndexError:\n",
        "    print(\"Erro: Não há uma segunda coluna no arquivo Excel para renomear e mover.\")\n",
        "except Exception as e:\n",
        "    print(f\"Ocorreu um erro durante a conversão: {e}\")"
      ],
      "execution_count": 42,
      "outputs": [
        {
          "output_type": "stream",
          "name": "stdout",
          "text": [
            "Arquivo 'formsTeste.xlsx' convertido com sucesso para 'RespostasFormulario.csv'\n",
            "A segunda coluna foi renomeada para 'Qual é a sua turma ? ' e movida para o final.\n"
          ]
        }
      ]
    },
    {
      "cell_type": "code",
      "metadata": {
        "colab": {
          "base_uri": "https://localhost:8080/"
        },
        "id": "3fbcc30e",
        "outputId": "1ab7d1a5-8c51-47a0-e238-685279c4e063"
      },
      "source": [
        "from sklearn.model_selection import train_test_split\n",
        "\n",
        "# Definir as colunas de features (X) e a coluna target (y)\n",
        "# Com base no DataFrame 'df' carregado anteriormente, as colunas de features são 'Q1' a 'Q32'.\n",
        "feature_columns = [f'Q{i}' for i in range(1, 33)]\n",
        "target_column = 'R'\n",
        "\n",
        "# Verificar se as colunas de features e target existem no DataFrame\n",
        "missing_columns = [col for col in feature_columns if col not in df.columns]\n",
        "if target_column not in df.columns:\n",
        "    missing_columns.append(target_column)\n",
        "\n",
        "if missing_columns:\n",
        "    print(f\"Erro: As seguintes colunas não foram encontradas no DataFrame: {missing_columns}\")\n",
        "else:\n",
        "    X = df[feature_columns]\n",
        "    y = df[target_column]\n",
        "\n",
        "    # Dividir os dados em conjuntos de treino e teste (80% treino, 20% teste)\n",
        "    # random_state garante que a divisão seja a mesma toda vez que você rodar o código\n",
        "    X_train, X_test, y_train, y_test = train_test_split(X, y, test_size=0.20, random_state=42)\n",
        "\n",
        "    print(\"Dados divididos em conjuntos de treino e teste com sucesso.\")\n",
        "    print(\"Tamanho do conjunto de treino (features):\", X_train.shape)\n",
        "    print(\"Tamanho do conjunto de teste (features):\", X_test.shape)\n",
        "    print(\"Tamanho do conjunto de treino (target):\", y_train.shape)\n",
        "    print(\"Tamanho do conjunto de teste (target):\", y_test.shape)\n",
        "\n",
        "    # Opcional: Mostrar as primeiras linhas dos conjuntos resultantes\n",
        "    # print(\"\\nPrimeiras 5 linhas de X_train:\")\n",
        "    # display(X_train.head())\n",
        "    # print(\"\\nPrimeiras 5 linhas de y_train:\")\n",
        "    # display(y_train.head())"
      ],
      "execution_count": 45,
      "outputs": [
        {
          "output_type": "stream",
          "name": "stdout",
          "text": [
            "Dados divididos em conjuntos de treino e teste com sucesso.\n",
            "Tamanho do conjunto de treino (features): (41, 32)\n",
            "Tamanho do conjunto de teste (features): (11, 32)\n",
            "Tamanho do conjunto de treino (target): (41,)\n",
            "Tamanho do conjunto de teste (target): (11,)\n"
          ]
        }
      ]
    },
    {
      "cell_type": "code",
      "metadata": {
        "colab": {
          "base_uri": "https://localhost:8080/"
        },
        "id": "568cb3c9",
        "outputId": "bc2bc754-06df-45e8-dd76-03b44f90b8c5"
      },
      "source": [
        "from sklearn.tree import DecisionTreeClassifier\n",
        "\n",
        "# Instanciar o classificador Decision Tree\n",
        "# Você pode ajustar o max_depth para controlar a complexidade da árvore\n",
        "model = DecisionTreeClassifier(random_state=42) # Adicionado random_state para reprodutibilidade\n",
        "\n",
        "# Treinar o modelo com os dados de treino\n",
        "# Certifique-se de que X_train e y_train foram definidos nos passos anteriores\n",
        "try:\n",
        "    model.fit(X_train, y_train)\n",
        "    print(\"Modelo Decision Tree treinado com sucesso.\")\n",
        "except NameError:\n",
        "    print(\"Erro: X_train ou y_train não foram definidos. Certifique-se de que os passos anteriores para carregar e dividir os dados foram executados com sucesso.\")\n",
        "except Exception as e:\n",
        "    print(f\"Ocorreu um erro durante o treinamento do modelo: {e}\")"
      ],
      "execution_count": 46,
      "outputs": [
        {
          "output_type": "stream",
          "name": "stdout",
          "text": [
            "Modelo Decision Tree treinado com sucesso.\n"
          ]
        }
      ]
    },
    {
      "cell_type": "code",
      "metadata": {
        "colab": {
          "base_uri": "https://localhost:8080/"
        },
        "id": "4954b3e4",
        "outputId": "cc4bba8f-ed44-4c4f-9a07-fefc82922da9"
      },
      "source": [
        "from sklearn.metrics import accuracy_score, precision_score, recall_score, f1_score\n",
        "\n",
        "# Fazer predições no conjunto de teste\n",
        "y_pred = model.predict(X_test)\n",
        "\n",
        "# Avaliar o desempenho do modelo\n",
        "acuracia = accuracy_score(y_test, y_pred)\n",
        "precisao = precision_score(y_test, y_pred, average='weighted', zero_division=1) # Use 'weighted' para lidar com classes desbalanceadas\n",
        "recall = recall_score(y_test, y_pred, average='weighted', zero_division=1)\n",
        "f1 = f1_score(y_test, y_pred, average='weighted', zero_division=1)\n",
        "\n",
        "print(f\"Acurácia do modelo: {acuracia:.2f}\")\n",
        "print(f\"Precisão do modelo: {precisao:.2f}\")\n",
        "print(f\"Recall do modelo: {recall:.2f}\")\n",
        "print(f\"F1-score do modelo: {f1:.2f}\")"
      ],
      "execution_count": 47,
      "outputs": [
        {
          "output_type": "stream",
          "name": "stdout",
          "text": [
            "Acurácia do modelo: 0.64\n",
            "Precisão do modelo: 0.67\n",
            "Recall do modelo: 0.64\n",
            "F1-score do modelo: 0.63\n"
          ]
        }
      ]
    },
    {
      "cell_type": "code",
      "source": [
        "# Salvar o DataFrame em CSV no Colab\n",
        "df.to_csv(\"meu_dataframe.csv\", index=False)\n",
        "\n",
        "print(\"Arquivo salvo como 'meu_dataframe.csv' na pasta atual do Colab\")\n"
      ],
      "metadata": {
        "colab": {
          "base_uri": "https://localhost:8080/"
        },
        "id": "-QSuyrX9P1Et",
        "outputId": "fc551a9a-7784-4316-bbc9-d4cd949bd521"
      },
      "execution_count": 48,
      "outputs": [
        {
          "output_type": "stream",
          "name": "stdout",
          "text": [
            "Arquivo salvo como 'meu_dataframe.csv' na pasta atual do Colab\n"
          ]
        }
      ]
    },
    {
      "cell_type": "code",
      "source": [
        "# Carregar o CSV\n",
        "file_path = \"/content/meu_dataframe.csv\"\n",
        "df = pd.read_csv(file_path)\n",
        "\n",
        "# Selecionar as colunas das questões\n",
        "perguntas = [col for col in df.columns if col.startswith(\"Q\")]\n",
        "\n",
        "# Agrupar por R e calcular média e desvio padrão\n",
        "estatisticas = df.groupby(\"R\")[perguntas].agg([\"mean\", \"std\"])\n",
        "\n",
        "# Renomear colunas para clareza\n",
        "estatisticas.columns = [f\"{col}_{stat}\" for col, stat in estatisticas.columns]\n",
        "\n",
        "# Mostrar resultado\n",
        "print(estatisticas)\n"
      ],
      "metadata": {
        "colab": {
          "base_uri": "https://localhost:8080/"
        },
        "id": "nvkkcFldQTT_",
        "outputId": "8e6f2a99-8efb-4585-8260-6b2fc5c64e9c"
      },
      "execution_count": 49,
      "outputs": [
        {
          "output_type": "stream",
          "name": "stdout",
          "text": [
            "     Q1_mean    Q1_std   Q2_mean    Q2_std   Q3_mean    Q3_std   Q4_mean  \\\n",
            "R                                                                          \n",
            "31  3.111111  1.054093  3.333333  1.500000  4.666667  0.500000  4.222222   \n",
            "32  3.416667  0.996205  2.166667  0.937437  4.750000  0.621582  3.083333   \n",
            "33  3.285714  1.380131  3.000000  1.732051  4.571429  1.133893  4.571429   \n",
            "34  3.041667  1.122078  3.458333  1.178767  4.250000  1.293798  3.583333   \n",
            "\n",
            "      Q4_std   Q5_mean    Q5_std  ...  Q28_mean   Q28_std  Q29_mean   Q29_std  \\\n",
            "R                                 ...                                           \n",
            "31  0.971825  3.777778  1.394433  ...  4.555556  0.726483  4.666667  0.707107   \n",
            "32  1.564279  3.250000  1.055290  ...  3.666667  1.556998  4.500000  0.674200   \n",
            "33  0.534522  4.142857  1.069045  ...  4.571429  0.534522  5.000000  0.000000   \n",
            "34  1.248187  3.666667  1.340560  ...  4.083333  1.017955  4.375000  1.209114   \n",
            "\n",
            "    Q30_mean   Q30_std  Q31_mean   Q31_std  Q32_mean   Q32_std  \n",
            "R                                                               \n",
            "31  4.000000  1.581139  4.000000  1.322876  4.222222  1.394433  \n",
            "32  3.000000  1.128152  4.166667  1.193416  4.083333  1.240112  \n",
            "33  3.000000  1.632993  4.000000  1.290994  4.000000  1.290994  \n",
            "34  3.708333  1.041703  3.666667  1.403928  4.125000  1.153916  \n",
            "\n",
            "[4 rows x 64 columns]\n"
          ]
        }
      ]
    },
    {
      "cell_type": "code",
      "source": [
        "import pandas as pd\n",
        "from sklearn.ensemble import RandomForestClassifier\n",
        "from sklearn.model_selection import train_test_split\n",
        "from sklearn.metrics import classification_report\n",
        "from sklearn.preprocessing import LabelEncoder\n",
        "\n",
        "# === 1. Carregar o CSV ===\n",
        "file_path = \"/content/meu_dataframe.csv\"\n",
        "df = pd.read_csv(file_path)\n",
        "\n",
        "# === 2. Tratar dados ===\n",
        "df = df.dropna()  # remove linhas com valores faltantes\n",
        "\n",
        "# === 3. Separar features (Q1..Q32) e target (R) ===\n",
        "X = df[[col for col in df.columns if col.lower().startswith(\"q\")]]\n",
        "y = df[\"R\"]\n",
        "\n",
        "# Converter target se for texto\n",
        "if y.dtype == \"object\":\n",
        "    le = LabelEncoder()\n",
        "    y = le.fit_transform(y)\n",
        "\n",
        "# === 4. Treinar modelo Random Forest ===\n",
        "X_train, X_test, y_train, y_test = train_test_split(X, y, test_size=0.3, random_state=42)\n",
        "\n",
        "model = RandomForestClassifier(n_estimators=200, random_state=42)\n",
        "model.fit(X_train, y_train)\n",
        "\n",
        "# Avaliar\n",
        "y_pred = model.predict(X_test)\n",
        "print(\"Relatório de classificação:\\n\")\n",
        "print(classification_report(y_test, y_pred))\n",
        "\n",
        "# === 5. Importância das features ===\n",
        "importances = pd.DataFrame({\n",
        "    \"Pergunta\": X.columns,\n",
        "    \"Importância\": model.feature_importances_\n",
        "}).sort_values(by=\"Importância\", ascending=False)\n",
        "\n",
        "# Mostrar top 10\n",
        "print(\"\\nTop 10 perguntas mais relevantes:\")\n",
        "print(importances.head(10))\n",
        "\n",
        "# === 6. Salvar ranking completo em CSV ===\n",
        "importances.to_csv(\"ranking_importancia_perguntas.csv\", index=False)\n",
        "print(\"\\nArquivo 'ranking_importancia_perguntas.csv' salvo com sucesso.\")"
      ],
      "metadata": {
        "colab": {
          "base_uri": "https://localhost:8080/"
        },
        "id": "MHVLu8ARRly9",
        "outputId": "a55bd4d8-6766-4fc5-e090-890c4630d1b1"
      },
      "execution_count": 50,
      "outputs": [
        {
          "output_type": "stream",
          "name": "stdout",
          "text": [
            "Relatório de classificação:\n",
            "\n",
            "              precision    recall  f1-score   support\n",
            "\n",
            "          31       0.00      0.00      0.00         3\n",
            "          32       1.00      0.17      0.29         6\n",
            "          33       0.00      0.00      0.00         1\n",
            "          34       0.40      1.00      0.57         6\n",
            "\n",
            "    accuracy                           0.44        16\n",
            "   macro avg       0.35      0.29      0.21        16\n",
            "weighted avg       0.53      0.44      0.32        16\n",
            "\n",
            "\n",
            "Top 10 perguntas mais relevantes:\n",
            "   Pergunta  Importância\n",
            "6        Q7     0.104966\n",
            "1        Q2     0.058411\n",
            "9       Q10     0.047855\n",
            "3        Q4     0.046860\n",
            "22      Q23     0.039944\n",
            "29      Q30     0.039417\n",
            "7        Q8     0.036016\n",
            "25      Q26     0.035686\n",
            "14      Q15     0.035545\n",
            "13      Q14     0.034464\n",
            "\n",
            "Arquivo 'ranking_importancia_perguntas.csv' salvo com sucesso.\n"
          ]
        },
        {
          "output_type": "stream",
          "name": "stderr",
          "text": [
            "/usr/local/lib/python3.12/dist-packages/sklearn/metrics/_classification.py:1565: UndefinedMetricWarning: Precision is ill-defined and being set to 0.0 in labels with no predicted samples. Use `zero_division` parameter to control this behavior.\n",
            "  _warn_prf(average, modifier, f\"{metric.capitalize()} is\", len(result))\n",
            "/usr/local/lib/python3.12/dist-packages/sklearn/metrics/_classification.py:1565: UndefinedMetricWarning: Precision is ill-defined and being set to 0.0 in labels with no predicted samples. Use `zero_division` parameter to control this behavior.\n",
            "  _warn_prf(average, modifier, f\"{metric.capitalize()} is\", len(result))\n",
            "/usr/local/lib/python3.12/dist-packages/sklearn/metrics/_classification.py:1565: UndefinedMetricWarning: Precision is ill-defined and being set to 0.0 in labels with no predicted samples. Use `zero_division` parameter to control this behavior.\n",
            "  _warn_prf(average, modifier, f\"{metric.capitalize()} is\", len(result))\n"
          ]
        }
      ]
    },
    {
      "cell_type": "code",
      "source": [
        "import pandas as pd\n",
        "import numpy as np\n",
        "\n",
        "# === 1. Carregar o CSV original ===\n",
        "file_path = \"/content/meu_dataframe.csv\"  # ajuste se necessário\n",
        "df = pd.read_csv(file_path)\n",
        "\n",
        "# === 2. Identificar perguntas ===\n",
        "perguntas = [col for col in df.columns if col.startswith(\"Q\")]\n",
        "\n",
        "# === 3. Calcular médias e desvios padrão por R ===\n",
        "stats = df.groupby(\"R\")[perguntas].agg([\"mean\", \"std\"])\n",
        "\n",
        "# === 4. Gerar 200 respostas artificiais ===\n",
        "n_sinteticas = 1000\n",
        "sinteticos = []\n",
        "\n",
        "for _ in range(n_sinteticas):\n",
        "    # Escolhe aleatoriamente uma classe R existente\n",
        "    r_value = np.random.choice(df[\"R\"].unique())\n",
        "\n",
        "    # Para cada questão, gerar resposta ~ Normal(mean, std) dessa classe\n",
        "    respostas = {}\n",
        "    for q in perguntas:\n",
        "        mean = stats.loc[r_value, (q, \"mean\")]\n",
        "        std = stats.loc[r_value, (q, \"std\")]\n",
        "        if np.isnan(std) or std == 0:\n",
        "            std = 0.5  # evitar problemas com std=0\n",
        "\n",
        "        # Sorteia valor\n",
        "        val = np.random.normal(mean, std)\n",
        "        # Arredonda para inteiro e mantém entre 1 e 5\n",
        "        val = int(np.clip(round(val), 1, 5))\n",
        "        respostas[q] = val\n",
        "\n",
        "    respostas[\"R\"] = r_value\n",
        "    sinteticos.append(respostas)\n",
        "\n",
        "df_sintetico = pd.DataFrame(sinteticos)\n",
        "\n",
        "# === 5. Concatenar com original ===\n",
        "df_final = pd.concat([df, df_sintetico], ignore_index=True)\n",
        "\n",
        "# === 6. Salvar em CSV ===\n",
        "output_file = \"dados_com_aumento.csv\"\n",
        "df_final.to_csv(output_file, index=False)\n",
        "\n",
        "print(f\"Novo dataset salvo como {output_file} com {len(df_final)} linhas (incluindo {n_sinteticas} artificiais).\")\n"
      ],
      "metadata": {
        "id": "1EOjCn0LSjBe",
        "colab": {
          "base_uri": "https://localhost:8080/"
        },
        "outputId": "94005ca3-fadf-4a30-cf59-7cf0ed15bfc1"
      },
      "execution_count": 51,
      "outputs": [
        {
          "output_type": "stream",
          "name": "stdout",
          "text": [
            "Novo dataset salvo como dados_com_aumento.csv com 1052 linhas (incluindo 1000 artificiais).\n"
          ]
        }
      ]
    }
  ]
}